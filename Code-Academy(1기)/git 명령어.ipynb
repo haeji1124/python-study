# git
Git의 공식 명칭은 분산 버전 관리 시스템(VCS:Version control system)이다.

Git은 버전 관리 시스템으로, 시간이 지남에 따라 파일의 변경 사항을 추적하는 도구입니다.

버전 관리 시트템(VCS)으로는 과거에는 CVS와 SVN을 사용했었는데, 현재는 git을 주로 사용하고 있다.

## Git을 사용 하는 목적
버전 관리를 할 수 있다.

협업(Collaboration)에 용이하다.

백업 (Back up) 을 통해 실수로 인해 파일의 지워졌거나 수정이 필요할 시 Recovery가 가능하다.
# git Hub
Git Hub는 Git repository를 위한 호스팅 플랫폼이다.

보통 git의 저장소(repository)는 자신의 컴퓨터(local computer)안에 저장되어 있는데 원격저장소를 통해 협업과 관리가 용이하도록 원격 저장소를 제공해주는 플랫폼이라고 할 수 있다.

즉, git 저장소(repository) 서버를 대신 유지 및 관리해주는 서비스라고 할 수 있다.

## git hub 장점
- GitHub을 사용하여 로컬 프로젝트 repository를 원격 클라우드 기반 GitHub 저장소에 업로드 할 수 있고, public repository 들을 통해 다른 개발자들과 교류할 수도 있습니다.
- 앞서 말한 이유와 더불어 많은 오픈 소스가 배포되며 세계 개발자들이 교류하기 때문에 GitHub 은 개발자들의 SNS라 할 정도로 유명하다.
# git hub desktop 사용
다운로드 후 File >> Options >> Accounts 에서 Github Enterprise 선택 sign in을 통해 login한다. 일반적인 github사용을 위해서는 GitHub.com sign in버튼을 누르면 되지만 사내에서는 사내 git hug를 사용한다.
https://github.samsungds.net/

![](img/git1.jpg)
![](img/git2.jpg)
# Area
## working area  
파일을 작업하는 공간으로 local 공간.  
git init을 통해서 git이 관리하도록 지정된 디렉토리입니다.  

## staging area  
commit이 가능한 영역으로, 커밋하기 전에 파일을 담아두는 상자.  
git add 명령어를 통해 수정된 파일을 이 영역에 담을 수 있다.    
즉, 스테이징 영역은 커밋하기 위한 파일들을 담는 박스이고, commit 하는 것은 박스에 담긴 파일들을 간단한 코멘트를 남겨 라벨링을 해주는 것이다.        
만약, git add 명령어를 통해 파일을 Staging area에 추가한 상태에서 또 파일을 수정한다면,해당 파일은 스테이징 영역에 존재하면서, 수정(modified)된 상태가 된다.  
따라서, git status로 확인하면 스테이징 영역과 modified 영역에 둘 다 표시하게 된다.   
상태에서 git commit을 하게 된다면, 스테이징 영역에 있는 파일만 커밋이 되고, 이후 수정된 내용은 커밋이 되지 않는다. 

`따라서 git add 명령어를 실행한 후 다시 파일을 수정한다면 git add 명령어를 다시 실행하여 파일의 최신 상태가 스테이징 영역에 존재하도록 해야 한다.`


만약, git add 명령어를 실행한 후 다시 파일을 수정하였지만, 수정한 파일을 폐기하고 싶다면, git restore 명령어를 통해 폐기가 가능하다. git restore 명령어를 실행하였을 경우, git add 된 파일은 폐기되지 않고, git add 명령어 사용한 이후에 수정된 부분만 폐기된다.

## commit area/repository area/Git Directory  
Git이 프로젝트의 메타데이터와 객체 데이터베이스를 저장하는 곳입니다.  
.git 디렉토리가 Git Directory(Repository)입니다.  
프로젝트의 버전 정보를 관리하기 필요로 한 모든 파일이 저장되어 있습니다.   

## git Hub repository  
local git에 commit할 뿐만 아니라 git hub에 push하여 웹상에 업로드한 영역.
git hub desktop에서는 publish repository를 통해 업로드한다.  
![](img/gitHubPublish.jpg)
# git파일의 상태
## Untracked
Working Directory에 존재는 하지만 git이 관리를 하지 않는 파일들의 상태입니다.

- Working Directory에 새롭게 만들어진 파일들이 이에  해당합니다.
- 새로운 파일을 만든 후  git status  명령을 실행하시면 "Untracked fiels : 파일 이름" 문구가 뜹니다. 해당 문구의 파일이 Untracked 상태의 파일을 의미합니다.

## Staged
commit 하고자 하는 파일의 상태입니다.
- 위에서 살펴본 Staging Area 영역에 있는 파일의 상태입니다. 
- Untracked 상태의 파일 혹은 commit 된 이후 수정이 진행된 파일(Modified 상태의 파일)을  git add  명령을 수행하게되면 해당 파일들은 Staged 상태가 됩니다.
- git add  명령 이후  git status  명령을 실행하면 "changes to be committed : 파일이름" 을 볼 수 있는데 해당 문구에 있는 파일이 바로 Staged 상태 파일입니다.
- "changes to be committed"는 'commit(버전화) 될 파일들의 목록' 을 의미합니다.

## Unmodified
수정을 하지 않은 파일 상태입니다.
- Unmodified 상태의 파일은 한 번 이상 commit 된 파일 중 수정을 하지 않은 파일 또는 다른 저장소의 파일들을 clone 하였을 때의 파일들을 의미합니다.

## Modified 
수정을 한 파일의 상태입니다.

- Unmodified 상태의 파일을 수정을 하게 되면 Modified 상태 파일이 됩니다. 
- Unmodified 상태의 파일을 수정 한 뒤  git status  명령을 실행하면 "changes not statged for commit : 파일 이름" 문구를 볼 수 있습니다. 해당 문구는 Modified 상태의 파일을 의미합니다.
- "changes not staged for commit"의 의미는 Tracked 상태이지만 아직 Staged 상태는 아닌 파일들의 목록을 의미합니다.
# Branch
![](img/gitBranch.jpg)

작가가 만약 소설을 쓰고 있다고 가정한다면, 엔딩을 세드엔딩을 할지 해피엔딩을 할지 고민하고 있다. 이때 파일을 복사해서 작성한다고 생각해보자. 먼저 작성한 세드 엔딩을 편집자에게 검토해달라고 보냈다. 편집자는 보다보니 작가가 실수로 장소를 잘못 기입했다. 그래서 장소를 편집자가 변경했다. 작가는 그 사실도 모른채 해피엔딩에 대해 집필했다. 이 경우 해피엔딩 파일도 다시 변경해야한다.  
`하지만 git branch를 사용하게 된다면 Comman Base(장소)는 둔채 master tip(해피엔딩)과 feature tip(세드엔딩)만 다르게되고 기록도 남게된다.`  
추후 엔딩을 무엇으로 할지 결정 후 출판하기만 하면 된다.  
(세드엔딩으로 결정한다면, master에서 branch를 merge. merge into sad ending branch)
# Conflicts in Branch
branch를 merge할때 서로 다른 line이라면 auto merge로 별다른 issue없이 merge가 된다. 하지만 branch와 master가 동일한 부분(라인)을 수정했다면 git은 어떤것이 우선되어야할지 판단이 모호하기 때문에 conflict가 발생한다. 이때는 사람의 판단이 개입되어야한다.
이때 github desktop에서는 open in visual studito code라는 option을 통해 편집이 가능하다.

![](img/gitMerge1.jpg) 
![](img/gitMerge2.jpg)



Current Change는 현재 branch를 가르키고(내거),  
Incoming Change는 Merge하고 싶은 곳에서 온것(원격지)  

![](img/gitMerge3.jpg)


- Accept Current Change  
현재(LOCAL) 기준으로 병합 (현 작성자 기준)  

- Accept Incoming Chnage  
원격(REMOTE) 기준으로 병합 (이전 작성자 기준)  

- Accept Both Changes  
현재(LOCAL), 원격(REMOTE) 모두 적절히 뒤섞인 병합  

- Compare Changes  
현재(LOCAL)과 원격(REMOTE)의 차이 비교창이 열림. (읽기전용)

# git Hub
원격 저장소를 제공해준다. gitHub뿐아니라 gitlab, bitbucket 등이 있다.
- fork  
다른 사람의 repository를 나의 계정의 repository로 복사하기  
![](img/gitHubfork.jpg)  

- clone  
git hub에 업로드 된 repository를 local에 다운받기  
![](img/gitHubClone.jpg)  

- Pull Request  
![](img/gitHubPullRequest.jpg)  
Branch 간 compare를 하거나, Compate across forks를 통해 fork와 비교  
![](img/gitHubPullRequest2.jpg)  
base repository의 owner는 병합여부를 결정할 수 있다.     
![](img/gitHubPullRequest3.jpg)  

- issue  
마일스톤을 만들고 그 안에 issue를 생성할 수 있다. label을 달아서 효과적으로 관리한다.  
issue 가 생기면 issue내용을 적고, issue를 해결하면 close한다. pull request와 issue를 연계할 수도 있다.  
![](img/gitHubIssue.jpg)

# git CLI
- add : git add 파일명(경로)  
staging area로 옮겨 git이 그 파일을 트랙킹 할 수 있도록 만든다  

- commit : git commit -m "description"  
commit을 진행하여 버전관리 가능하게 만든다.  
--amend : 가장 최근 commit을 변경한다.  
 
  ex)
  ```
  git add .  # 추가 안된 파일 추가하고
  git commit --amend --no-edit    # commit 메시지는 수정하지 않음
  ```

- log  : git log  
commit 이력보기. 로그보기 종료를 위해서는 q를 입력  

origin/master는 github에 업로드(push)  
![](img/gitLog.jpg)  

- push : git push \<remote\> \<branch\>  
원격 저장소(github)에 업로드 한다.  
![](img/gitPush.jpg)  

- checkout : git checkout commitId
과거 시점으로 되돌리고 싶을때 사용한다.  

- reset : git reset  
--hard는 삭제한다는 뜻  
git reset --hard HEAD^ 최신 버전 삭제해서 이전 버전으로 되돌리기  
^추가할때마다 이전버전으로... ex)HEAD^^ 2개 이전 버전으로  
`그런데 이렇게 버전을 지우면 원격 저장소에는 버전이 차이가 나서 push시에는 강제로 해야한다.`    
git push origin master --force  
  > --hard 옵션없이 사용시 복합 리셋이 되며, 이때는 내가 선택한 commit에서 변경사항들을 unstage 영역으로 옮기게 됨(변경사항 local에 두기)  
  (추후 add필요한 상태)


  > soft reset
  --soft 옵션을 사용시 stage 영역으로 옮기게 됨.(commit 준비된 상태)

- branch : git branch  
내가 위치한 브렌치 정보를 알 수 있다.  
-r 원격 저장소의 브렌치를 확인  
-d \<branch name> : 삭제  
-v 브렌치의 마지막 커밋 메시지 확인

- switch : git switch <브렌치 명>  
해당 브렌치로 활성화한다.
-c : 브렌치를 만들면서 활성화한다.  
  ```
  ex)
  git switch -c BranchName
  ```

- status : git status  
상태를 볼 수 있다.  아래 그림의 경우 stage 영역에 없다. git add할 필요가 있음
![](img/gitStatus1.jpg)  

- clone : git clone <원격저장소 주소>  
원격저장소에 있는 코드를 다운받음.

## checkout branch
커밋을 과거로 돌리고 branch하기  
```
git checkout <commitID> # 과거로 돌리기
git checkout -b <branch name>  # 브렌치 생성

# 한번에 과거로 돌리면서 브렌치 생성
git checkout <commitID> -b <branch name>  

git push origin <branch> # 원격저장소에 업로드
```
# .gitignore
.gitignore 파일에 git에서 관리하지 않을 파일을 정의해두면 status 명령어를 실행해도 stage영역에 없다는 경고 문구도 보이지 않게 되고 add를 해도 stage영역으로 가지 않으며 commit도 되지 않는다.
