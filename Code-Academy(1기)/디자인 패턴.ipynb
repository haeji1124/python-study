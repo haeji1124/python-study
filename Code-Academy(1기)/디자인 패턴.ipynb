{
 "cells": [
  {
   "attachments": {},
   "cell_type": "markdown",
   "metadata": {},
   "source": [
    "# 문자열 표현\n",
    "```python\n",
    "f\"{idx:02}\" # 2자리로 표현\n",
    "f\"{idx!r}\" # __repr__ 가져오기\n",
    "f\"{idx!s}\" # __str__ 가져오기\n",
    "f\"{idx!a}\" # ascii() 사용 : repr() 처럼, 객체 (문자열, 리스트, 튜플, 딕셔너리 등)의 출력 가능한 표현을 포함하는 문자열을 반환\n",
    "```"
   ]
  },
  {
   "cell_type": "code",
   "execution_count": 20,
   "metadata": {},
   "outputs": [
    {
     "name": "stdout",
     "output_type": "stream",
     "text": [
      "00\n",
      "01\n",
      "02\n",
      "03\n",
      "04\n",
      "05\n",
      "06\n",
      "07\n",
      "08\n",
      "09\n"
     ]
    }
   ],
   "source": [
    "for i in range(10):\n",
    "    print(f\"{i:02}\")"
   ]
  },
  {
   "cell_type": "code",
   "execution_count": 18,
   "metadata": {},
   "outputs": [
    {
     "name": "stdout",
     "output_type": "stream",
     "text": [
      "'string'\n",
      "string\n",
      "1\n",
      "1\n",
      "['list']\n",
      "['list']\n",
      "'tuple'\n",
      "tuple\n",
      "{'key': 'value'}\n",
      "{'key': 'value'}\n"
     ]
    }
   ],
   "source": [
    "# for item in ['string', 1, ['list'], ('tuple'),{'key':'value'},open(\".gitattributes\",'r')]:\n",
    "for item in ['string', 1, ['list'], ('tuple'),{'key':'value'}]:\n",
    "    print(f\"{item!r}\")\n",
    "    print(f\"{item!s}\")"
   ]
  },
  {
   "cell_type": "code",
   "execution_count": 24,
   "metadata": {},
   "outputs": [
    {
     "name": "stdout",
     "output_type": "stream",
     "text": [
      "'Python'\n",
      "'Pyth\\xf6n'\n",
      "'apple'\n",
      "'\\xe5pple'\n"
     ]
    }
   ],
   "source": [
    "for i in ['Python','Pythön','apple','åpple']:\n",
    "    print(f\"{i!a}\")"
   ]
  },
  {
   "attachments": {},
   "cell_type": "markdown",
   "metadata": {},
   "source": [
    "# 언더스코어의 의미\n",
    "- 인터프리터(Interpreter)에서 마지막 값을 저장할 때\n",
    "- 값을 무시하고 싶을 때 (흔히 “I don’t care\"라고 부른다.)\n",
    "- 변수나 함수명에 특별한 의미 또는 기능을 부여하고자 할 때\n",
    "- 국제화(Internationalization, i18n)/지역화(Localization, l10n) 함수로써 사용할 때\n",
    "- 숫자 리터럴값의 자릿수 구분을 위한 구분자로써 사용할 때"
   ]
  },
  {
   "attachments": {},
   "cell_type": "markdown",
   "metadata": {},
   "source": [
    "## 인터프리터 마직막을 저장  \n",
    "\n",
    "![](img/%EC%9D%B8%ED%84%B0%ED%94%84%EB%A6%AC%ED%84%B0%20%EB%A7%88%EC%A7%80%EB%A7%89.jpg)"
   ]
  },
  {
   "cell_type": "code",
   "execution_count": 28,
   "metadata": {},
   "outputs": [
    {
     "name": "stdout",
     "output_type": "stream",
     "text": [
      "1 3\n",
      "1 5\n",
      "haha\n",
      "haha\n",
      "haha\n",
      "value1\n",
      "value2\n",
      "value3\n"
     ]
    }
   ],
   "source": [
    "#################################\n",
    "# 값을 무시하고 싶은 경우\n",
    "#################################\n",
    "x,_,y=(1,2,3)\n",
    "print(x,y)\n",
    "\n",
    "# 여러개 값 무시\n",
    "x,*_,y=(1,2,3,4,5)\n",
    "print(x,y)\n",
    "\n",
    "# 인덱스 무시\n",
    "for _ in range(3):\n",
    "    print('haha')\n",
    "\n",
    "# 특정 위치의 값 무시:\n",
    "for _,val in [('key1','value1'),('key2','value2'),('key3','value3')]:\n",
    "    print(val)"
   ]
  },
  {
   "attachments": {},
   "cell_type": "markdown",
   "metadata": {},
   "source": [
    "## private 클래스/함수/변수/메서드를 선언할 때  \n",
    "```python\n",
    "from module import *\n",
    "```\n",
    "\n",
    "위와 같이 사용이 _로 시작되는 것들은 import에서 무시된다. 파이썬에서는 진정한 의미의 private를 지원하지 않기 때문에 private를 강제화 할 수 없다.  \n",
    "즉, 위와 같은 임포트 문에서는 무시되지만 직접 가져다 쓰거나 호출을 할 경우엔 사용이 가능하다.  \n",
    "그래서 `weak internal use indicator`라고 부르기도 한다."
   ]
  },
  {
   "attachments": {},
   "cell_type": "markdown",
   "metadata": {},
   "source": [
    "## single_trailing_underscore_: 파이썬 키워드와의 충돌을 피하기 위함 \n",
    "파이썬 키워드와의 충돌을 피하기 위해 사용하는 컨벤션이다. 그리 많이 사용하지는 않을 것이다.\n",
    "\n",
    "```python\n",
    "Tkinter.Toplevel(master, class_='ClassName') # class와의 충돌을 피함\n",
    "list_ = List.objects.get(1) # list와의 충돌을 피함\n",
    "```"
   ]
  },
  {
   "attachments": {},
   "cell_type": "markdown",
   "metadata": {},
   "source": [
    "## __double_leading_underscores: 클래스 속성명을 맹글링하여 클래스 간 속석명의 충돌을 방지하기 위한 용도\n",
    "맹글링이란, 컴파일러나 인터프리터가 변수/함수명을 그대로 사용하지 않고 일정한 규칙에 의해 변형시키는 것을 말한다. 파이썬의 맹글링 규칙은 더블 언더스코어로 지정된 속성명 앞에 _ClassName을 결합하는 방식이다. 즉, ClassName이라는 클래스에서 __method라는 메서드를 선언했다면 이는 _ClassName__method로 맹글링 된다."
   ]
  },
  {
   "cell_type": "code",
   "execution_count": 48,
   "metadata": {},
   "outputs": [
    {
     "name": "stdout",
     "output_type": "stream",
     "text": [
      "['_A__double_method', '__class__', '__delattr__', '__dict__', '__dir__', '__doc__', '__eq__', '__format__', '__ge__', '__getattribute__', '__gt__', '__hash__', '__init__', '__init_subclass__', '__le__', '__lt__', '__module__', '__ne__', '__new__', '__reduce__', '__reduce_ex__', '__repr__', '__setattr__', '__sizeof__', '__str__', '__subclasshook__', '__weakref__', '_single_method']\n",
      "\n",
      "['_A__double_method', '_B__double_method', '__class__', '__delattr__', '__dict__', '__dir__', '__doc__', '__eq__', '__format__', '__ge__', '__getattribute__', '__gt__', '__hash__', '__init__', '__init_subclass__', '__le__', '__lt__', '__module__', '__ne__', '__new__', '__reduce__', '__reduce_ex__', '__repr__', '__setattr__', '__sizeof__', '__str__', '__subclasshook__', '__weakref__', '_single_method']\n",
      "\n",
      "haha\n",
      "haha\n",
      "A의 메서드입니다.\n",
      "A의 메서드입니다.\n",
      "B의 메서드입니다.\n"
     ]
    }
   ],
   "source": [
    "class A:\n",
    "    def _single_method(self):\n",
    "        print('haha')\n",
    "\n",
    "    def __double_method(self): # 맹글링을 위한 메서드\n",
    "        print('A의 메서드입니다.')\n",
    "\n",
    "class B(A):\n",
    "    def __double_method(self): # 맹글링을 위한 메서드\n",
    "        print('B의 메서드입니다.')\n",
    "\n",
    "\n",
    "print(dir(A())) # ['_A__double_method', ..., '_single_method']\n",
    "print()\n",
    "print(dir(B())) # ['_A__double_method', '_B__double_method', ..., '_single_method']\n",
    "\n",
    "# 서로 같은 이름의 메서드를 가지지만 오버라이드가 되지 않는다.\n",
    "\n",
    "test1=A()\n",
    "test2=B()\n",
    "\n",
    "print()\n",
    "test1._single_method()\n",
    "test2._single_method()\n",
    "# test1.__double_method()            ----> Error 발생\n",
    "test1._A__double_method()\n",
    "# test2.__double_method()            ----> Error 발생\n",
    "test2._A__double_method()\n",
    "test2._B__double_method()\n"
   ]
  },
  {
   "attachments": {},
   "cell_type": "markdown",
   "metadata": {},
   "source": [
    "## __double_leading_and_trailing_underscores__: 스페셜 변수나 메서드(매직 메서드라고도 부른다.)에 사용되는 컨벤션\n",
    "\n",
    "\\_\\_init__, \\__len__과 같은 메서드들이 있다. 이런 형태의 메서드들은 어떤 특정한 문법적 기능을 제공하거나 특정한 일을 수행한다. 가령, __file__은 현재 파이썬 파일의 위치를 나타내는 스페셜 변수이며, __eq__은 a == b라는 식이 수행될 때 실행되는 스페셜 메서드이다. 물론 사용자가 직접 만들 수도 있지만 그런 경우는 정말 거의 없으며, 일부 스페셜 메서드의 경우 직접 수정하거나 하는 일은 빈번히 있을 수 있다. __init__의 경우 클래스의 인스턴스가 생성될 때 처음으로 실행되는 메서드인데 인스턴스의 초기화 작업을 이 메서드의 내용으로 작성할 수 있다."
   ]
  },
  {
   "attachments": {},
   "cell_type": "markdown",
   "metadata": {},
   "source": [
    "## 숫자 리터럴값의 자릿수 구분을 위한 구분자로써 사용할 때\n",
    "Python 3.6에 추가된 문법으로 언더스코어로 숫자값을 좀 더 읽기 쉽도록 자릿수를 구분할 수 있게 되었다."
   ]
  },
  {
   "cell_type": "code",
   "execution_count": 49,
   "metadata": {},
   "outputs": [
    {
     "name": "stdout",
     "output_type": "stream",
     "text": [
      "1000000\n",
      "240\n",
      "305441741\n"
     ]
    }
   ],
   "source": [
    "dec_base = 1_000_000\n",
    "bin_base = 0b_1111_0000\n",
    "hex_base = 0x_1234_abcd\n",
    "\n",
    "print(dec_base) \n",
    "print(bin_base) \n",
    "print(hex_base) "
   ]
  },
  {
   "attachments": {},
   "cell_type": "markdown",
   "metadata": {},
   "source": [
    "https://mingrammer.com/underscore-in-python/"
   ]
  },
  {
   "cell_type": "markdown",
   "metadata": {},
   "source": []
  }
 ],
 "metadata": {
  "kernelspec": {
   "display_name": "Python 3",
   "language": "python",
   "name": "python3"
  },
  "language_info": {
   "codemirror_mode": {
    "name": "ipython",
    "version": 3
   },
   "file_extension": ".py",
   "mimetype": "text/x-python",
   "name": "python",
   "nbconvert_exporter": "python",
   "pygments_lexer": "ipython3",
   "version": "3.9.9"
  },
  "orig_nbformat": 4,
  "vscode": {
   "interpreter": {
    "hash": "6a1a03f6c9de4f6c15311efd088166213743e89a52a350b11fe86479c802b0a5"
   }
  }
 },
 "nbformat": 4,
 "nbformat_minor": 2
}
